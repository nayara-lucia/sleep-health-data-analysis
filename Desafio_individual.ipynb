{
 "cells": [
  {
   "cell_type": "code",
   "execution_count": 1,
   "id": "23552d2a-857f-41cf-a393-ae0ea021c795",
   "metadata": {},
   "outputs": [],
   "source": [
    "import pandas as pd\n",
    "import numpy as np"
   ]
  },
  {
   "cell_type": "code",
   "execution_count": 118,
   "id": "e337e3eb-8b62-49c0-b57d-dd72800545a4",
   "metadata": {},
   "outputs": [],
   "source": [
    "import warnings\n",
    "warnings.filterwarnings(\"ignore\")"
   ]
  },
  {
   "cell_type": "code",
   "execution_count": 8,
   "id": "ba33a255-54e6-4dae-a67f-11c534b6d57b",
   "metadata": {},
   "outputs": [],
   "source": [
    "df_health = pd.read_csv('saude_do_sono_estilo_vida.csv')"
   ]
  },
  {
   "cell_type": "markdown",
   "id": "e25da4a4-1950-4ad3-8a7a-6697e153d277",
   "metadata": {
    "tags": []
   },
   "source": [
    "# Python para Dados - Desafio Final\n",
    "\n",
    "Você é uma pesquisadora que está tentando entender melhor qual o impacto do estilo de vida de uma pessoa na sua qualidade de sono, por isso fez a cleta dos dados de sobre 373 pessoas, onde foram recolhidas 12\n",
    "características para cada uma delas. Por competência a sua pesquisa foi bem\n",
    "controlada e você não tem dados faltosos na sua base. Chegou o momento\n",
    "de você fazer sua análise e responder algumas perguntas.\n",
    "\n",
    "* 1. Ao visualizar a base você percebeu que seria melhor alterar o nome de algumas colunas. Mude o ‘ID’ para ‘Identificador’, corrija o nome da coluna que indica a pressão sanguínea, mude a coluna ‘Ocupação’ para ‘Profissão’, a coluna ‘Categoria BMI’ está em parte em inglês, substitua para ‘Categoria IMC’.\n",
    "* 2. Qual é a média, a moda e a mediana de horas de sono para cada uma das profissões? [‘mean’, np.median, pd.Series.mod]\n",
    "* 3. Das pessoas que atuam com engenharia de software qual a\n",
    "porcentagem de obesos?\n",
    "* 4. De acordo com os dados, advogar ou ser representante de vendas faz você dormir menos? (Use o método ‘isin’, considere a média)\n",
    "* 5. Entre quem fez enfermagem e quem fez medicina, quem tem menos\n",
    "horas de sono? (Use o método ‘isin’, considere a média)\n",
    "* 6. Faça um subconjunto com as colunas Identificador, Gênero, Idade,\n",
    "Pressão sanguínea e Frequência cardíaca.\n",
    "* 7. Descubra qual a profissão menos frequente no conjunto. (Use\n",
    "value_counts)\n",
    "* 8. Quem tem maior pressão sanguínea média, homens ou mulheres?\n",
    "(Considere a média)\n",
    "* 9. É predominante entre os participantes dormir 8 horas por dia\n",
    "(considere usar Moda como medida)?\n",
    "* 10. Pessoas com frequências cardíacas acima de 70 dão mais passos que pessoas com frequência cardíaca menor ou igual a 70? (Use a média)"
   ]
  },
  {
   "cell_type": "markdown",
   "id": "78fb4e8d-265f-454a-88da-e07bbea50e05",
   "metadata": {
    "jp-MarkdownHeadingCollapsed": true,
    "tags": []
   },
   "source": [
    "### #1 "
   ]
  },
  {
   "cell_type": "code",
   "execution_count": 9,
   "id": "9c9ba137-1463-4aac-9035-f5dedcfb1ef4",
   "metadata": {},
   "outputs": [
    {
     "data": {
      "text/html": [
       "<div>\n",
       "<style scoped>\n",
       "    .dataframe tbody tr th:only-of-type {\n",
       "        vertical-align: middle;\n",
       "    }\n",
       "\n",
       "    .dataframe tbody tr th {\n",
       "        vertical-align: top;\n",
       "    }\n",
       "\n",
       "    .dataframe thead th {\n",
       "        text-align: right;\n",
       "    }\n",
       "</style>\n",
       "<table border=\"1\" class=\"dataframe\">\n",
       "  <thead>\n",
       "    <tr style=\"text-align: right;\">\n",
       "      <th></th>\n",
       "      <th>ID</th>\n",
       "      <th>Gênero</th>\n",
       "      <th>Idade</th>\n",
       "      <th>Ocupação</th>\n",
       "      <th>Duração do sono</th>\n",
       "      <th>Qualidade do sono</th>\n",
       "      <th>Nível de atividade física</th>\n",
       "      <th>Nível de estresse</th>\n",
       "      <th>Categoria BMI</th>\n",
       "      <th>Pressão sanguíneaaaa</th>\n",
       "      <th>Frequência cardíaca</th>\n",
       "      <th>Passos diários</th>\n",
       "      <th>Distúrbio do sono</th>\n",
       "    </tr>\n",
       "  </thead>\n",
       "  <tbody>\n",
       "    <tr>\n",
       "      <th>0</th>\n",
       "      <td>1</td>\n",
       "      <td>Homem</td>\n",
       "      <td>27</td>\n",
       "      <td>Eng. de Software</td>\n",
       "      <td>6.1</td>\n",
       "      <td>6</td>\n",
       "      <td>42</td>\n",
       "      <td>6</td>\n",
       "      <td>Sobrepeso</td>\n",
       "      <td>126/83</td>\n",
       "      <td>77</td>\n",
       "      <td>4200</td>\n",
       "      <td>Nenhuma</td>\n",
       "    </tr>\n",
       "    <tr>\n",
       "      <th>1</th>\n",
       "      <td>2</td>\n",
       "      <td>Homem</td>\n",
       "      <td>28</td>\n",
       "      <td>Médico(a)</td>\n",
       "      <td>6.2</td>\n",
       "      <td>6</td>\n",
       "      <td>60</td>\n",
       "      <td>8</td>\n",
       "      <td>Normal</td>\n",
       "      <td>125/80</td>\n",
       "      <td>75</td>\n",
       "      <td>10000</td>\n",
       "      <td>Nenhuma</td>\n",
       "    </tr>\n",
       "    <tr>\n",
       "      <th>2</th>\n",
       "      <td>3</td>\n",
       "      <td>Homem</td>\n",
       "      <td>28</td>\n",
       "      <td>Médico(a)</td>\n",
       "      <td>6.2</td>\n",
       "      <td>6</td>\n",
       "      <td>60</td>\n",
       "      <td>8</td>\n",
       "      <td>Normal</td>\n",
       "      <td>125/80</td>\n",
       "      <td>75</td>\n",
       "      <td>10000</td>\n",
       "      <td>Nenhuma</td>\n",
       "    </tr>\n",
       "  </tbody>\n",
       "</table>\n",
       "</div>"
      ],
      "text/plain": [
       "   ID Gênero  Idade          Ocupação  Duração do sono  Qualidade do sono  \\\n",
       "0   1  Homem     27  Eng. de Software              6.1                  6   \n",
       "1   2  Homem     28         Médico(a)              6.2                  6   \n",
       "2   3  Homem     28         Médico(a)              6.2                  6   \n",
       "\n",
       "   Nível de atividade física  Nível de estresse Categoria BMI  \\\n",
       "0                         42                  6     Sobrepeso   \n",
       "1                         60                  8        Normal   \n",
       "2                         60                  8        Normal   \n",
       "\n",
       "  Pressão sanguíneaaaa  Frequência cardíaca  Passos diários Distúrbio do sono  \n",
       "0               126/83                   77            4200           Nenhuma  \n",
       "1               125/80                   75           10000           Nenhuma  \n",
       "2               125/80                   75           10000           Nenhuma  "
      ]
     },
     "execution_count": 9,
     "metadata": {},
     "output_type": "execute_result"
    }
   ],
   "source": [
    "df_health.head(3)"
   ]
  },
  {
   "cell_type": "code",
   "execution_count": 10,
   "id": "5c9795cb-0b0f-4d9f-84c5-bdfcd3308e1f",
   "metadata": {},
   "outputs": [],
   "source": [
    "df_health = df_health.rename(columns={\n",
    "            'ID': 'Identificador',\n",
    "            'Pressão sanguíneaaaa': 'Pressão sanguínea',\n",
    "            'Ocupação': 'Profissão',\n",
    "            'Categoria BMI': 'Categoria IMC'\n",
    "})"
   ]
  },
  {
   "cell_type": "code",
   "execution_count": 11,
   "id": "18492a26-1a6e-43f5-8a3a-26fd068836c2",
   "metadata": {},
   "outputs": [
    {
     "data": {
      "text/html": [
       "<div>\n",
       "<style scoped>\n",
       "    .dataframe tbody tr th:only-of-type {\n",
       "        vertical-align: middle;\n",
       "    }\n",
       "\n",
       "    .dataframe tbody tr th {\n",
       "        vertical-align: top;\n",
       "    }\n",
       "\n",
       "    .dataframe thead th {\n",
       "        text-align: right;\n",
       "    }\n",
       "</style>\n",
       "<table border=\"1\" class=\"dataframe\">\n",
       "  <thead>\n",
       "    <tr style=\"text-align: right;\">\n",
       "      <th></th>\n",
       "      <th>Identificador</th>\n",
       "      <th>Gênero</th>\n",
       "      <th>Idade</th>\n",
       "      <th>Profissão</th>\n",
       "      <th>Duração do sono</th>\n",
       "      <th>Qualidade do sono</th>\n",
       "      <th>Nível de atividade física</th>\n",
       "      <th>Nível de estresse</th>\n",
       "      <th>Categoria IMC</th>\n",
       "      <th>Pressão sanguínea</th>\n",
       "      <th>Frequência cardíaca</th>\n",
       "      <th>Passos diários</th>\n",
       "      <th>Distúrbio do sono</th>\n",
       "    </tr>\n",
       "  </thead>\n",
       "  <tbody>\n",
       "    <tr>\n",
       "      <th>0</th>\n",
       "      <td>1</td>\n",
       "      <td>Homem</td>\n",
       "      <td>27</td>\n",
       "      <td>Eng. de Software</td>\n",
       "      <td>6.1</td>\n",
       "      <td>6</td>\n",
       "      <td>42</td>\n",
       "      <td>6</td>\n",
       "      <td>Sobrepeso</td>\n",
       "      <td>126/83</td>\n",
       "      <td>77</td>\n",
       "      <td>4200</td>\n",
       "      <td>Nenhuma</td>\n",
       "    </tr>\n",
       "    <tr>\n",
       "      <th>1</th>\n",
       "      <td>2</td>\n",
       "      <td>Homem</td>\n",
       "      <td>28</td>\n",
       "      <td>Médico(a)</td>\n",
       "      <td>6.2</td>\n",
       "      <td>6</td>\n",
       "      <td>60</td>\n",
       "      <td>8</td>\n",
       "      <td>Normal</td>\n",
       "      <td>125/80</td>\n",
       "      <td>75</td>\n",
       "      <td>10000</td>\n",
       "      <td>Nenhuma</td>\n",
       "    </tr>\n",
       "    <tr>\n",
       "      <th>2</th>\n",
       "      <td>3</td>\n",
       "      <td>Homem</td>\n",
       "      <td>28</td>\n",
       "      <td>Médico(a)</td>\n",
       "      <td>6.2</td>\n",
       "      <td>6</td>\n",
       "      <td>60</td>\n",
       "      <td>8</td>\n",
       "      <td>Normal</td>\n",
       "      <td>125/80</td>\n",
       "      <td>75</td>\n",
       "      <td>10000</td>\n",
       "      <td>Nenhuma</td>\n",
       "    </tr>\n",
       "  </tbody>\n",
       "</table>\n",
       "</div>"
      ],
      "text/plain": [
       "   Identificador Gênero  Idade         Profissão  Duração do sono  \\\n",
       "0              1  Homem     27  Eng. de Software              6.1   \n",
       "1              2  Homem     28         Médico(a)              6.2   \n",
       "2              3  Homem     28         Médico(a)              6.2   \n",
       "\n",
       "   Qualidade do sono  Nível de atividade física  Nível de estresse  \\\n",
       "0                  6                         42                  6   \n",
       "1                  6                         60                  8   \n",
       "2                  6                         60                  8   \n",
       "\n",
       "  Categoria IMC Pressão sanguínea  Frequência cardíaca  Passos diários  \\\n",
       "0     Sobrepeso            126/83                   77            4200   \n",
       "1        Normal            125/80                   75           10000   \n",
       "2        Normal            125/80                   75           10000   \n",
       "\n",
       "  Distúrbio do sono  \n",
       "0           Nenhuma  \n",
       "1           Nenhuma  \n",
       "2           Nenhuma  "
      ]
     },
     "execution_count": 11,
     "metadata": {},
     "output_type": "execute_result"
    }
   ],
   "source": [
    "df_health.head(3)"
   ]
  },
  {
   "cell_type": "code",
   "execution_count": null,
   "id": "35ca23a0-e67c-4f23-930f-bcdc37b28d0b",
   "metadata": {},
   "outputs": [],
   "source": []
  },
  {
   "cell_type": "markdown",
   "id": "06aa145d-5bb8-47e2-98fc-48fd5e739731",
   "metadata": {
    "jp-MarkdownHeadingCollapsed": true,
    "tags": []
   },
   "source": [
    "### #2"
   ]
  },
  {
   "cell_type": "code",
   "execution_count": 12,
   "id": "615d50c5-a750-4ffa-9295-1a6e7986a6ed",
   "metadata": {},
   "outputs": [
    {
     "data": {
      "text/html": [
       "<div>\n",
       "<style scoped>\n",
       "    .dataframe tbody tr th:only-of-type {\n",
       "        vertical-align: middle;\n",
       "    }\n",
       "\n",
       "    .dataframe tbody tr th {\n",
       "        vertical-align: top;\n",
       "    }\n",
       "\n",
       "    .dataframe thead th {\n",
       "        text-align: right;\n",
       "    }\n",
       "</style>\n",
       "<table border=\"1\" class=\"dataframe\">\n",
       "  <thead>\n",
       "    <tr style=\"text-align: right;\">\n",
       "      <th></th>\n",
       "      <th>Identificador</th>\n",
       "      <th>Gênero</th>\n",
       "      <th>Idade</th>\n",
       "      <th>Profissão</th>\n",
       "      <th>Duração do sono</th>\n",
       "      <th>Qualidade do sono</th>\n",
       "      <th>Nível de atividade física</th>\n",
       "      <th>Nível de estresse</th>\n",
       "      <th>Categoria IMC</th>\n",
       "      <th>Pressão sanguínea</th>\n",
       "      <th>Frequência cardíaca</th>\n",
       "      <th>Passos diários</th>\n",
       "      <th>Distúrbio do sono</th>\n",
       "    </tr>\n",
       "  </thead>\n",
       "  <tbody>\n",
       "    <tr>\n",
       "      <th>0</th>\n",
       "      <td>1</td>\n",
       "      <td>Homem</td>\n",
       "      <td>27</td>\n",
       "      <td>Eng. de Software</td>\n",
       "      <td>6.1</td>\n",
       "      <td>6</td>\n",
       "      <td>42</td>\n",
       "      <td>6</td>\n",
       "      <td>Sobrepeso</td>\n",
       "      <td>126/83</td>\n",
       "      <td>77</td>\n",
       "      <td>4200</td>\n",
       "      <td>Nenhuma</td>\n",
       "    </tr>\n",
       "    <tr>\n",
       "      <th>1</th>\n",
       "      <td>2</td>\n",
       "      <td>Homem</td>\n",
       "      <td>28</td>\n",
       "      <td>Médico(a)</td>\n",
       "      <td>6.2</td>\n",
       "      <td>6</td>\n",
       "      <td>60</td>\n",
       "      <td>8</td>\n",
       "      <td>Normal</td>\n",
       "      <td>125/80</td>\n",
       "      <td>75</td>\n",
       "      <td>10000</td>\n",
       "      <td>Nenhuma</td>\n",
       "    </tr>\n",
       "  </tbody>\n",
       "</table>\n",
       "</div>"
      ],
      "text/plain": [
       "   Identificador Gênero  Idade         Profissão  Duração do sono  \\\n",
       "0              1  Homem     27  Eng. de Software              6.1   \n",
       "1              2  Homem     28         Médico(a)              6.2   \n",
       "\n",
       "   Qualidade do sono  Nível de atividade física  Nível de estresse  \\\n",
       "0                  6                         42                  6   \n",
       "1                  6                         60                  8   \n",
       "\n",
       "  Categoria IMC Pressão sanguínea  Frequência cardíaca  Passos diários  \\\n",
       "0     Sobrepeso            126/83                   77            4200   \n",
       "1        Normal            125/80                   75           10000   \n",
       "\n",
       "  Distúrbio do sono  \n",
       "0           Nenhuma  \n",
       "1           Nenhuma  "
      ]
     },
     "execution_count": 12,
     "metadata": {},
     "output_type": "execute_result"
    }
   ],
   "source": [
    "df_health.head(2)"
   ]
  },
  {
   "cell_type": "code",
   "execution_count": 13,
   "id": "fb7a56c0-a8a6-4014-bd40-a0d49556a7f9",
   "metadata": {},
   "outputs": [
    {
     "data": {
      "text/plain": [
       "Profissão\n",
       "Advogado(a)                7.410638\n",
       "Cientista                  6.000000\n",
       "Contador(a)                7.113514\n",
       "Enfermeiro(a)              7.048611\n",
       "Eng. de Software           6.750000\n",
       "Engenheiro(a)              7.987302\n",
       "Gerente                    6.900000\n",
       "Médico(a)                  6.970423\n",
       "Pessoa Vendendora          6.403125\n",
       "Professor(a)               6.690000\n",
       "Representante de Vendas    5.900000\n",
       "Name: Duração do sono, dtype: float64"
      ]
     },
     "execution_count": 13,
     "metadata": {},
     "output_type": "execute_result"
    }
   ],
   "source": [
    "# média\n",
    "\n",
    "df_health.groupby('Profissão')['Duração do sono'].mean()"
   ]
  },
  {
   "cell_type": "code",
   "execution_count": 27,
   "id": "bf22b8ab-3bb9-496a-b104-78cd3e8122ae",
   "metadata": {},
   "outputs": [],
   "source": [
    "# moda\n",
    "\n",
    "def moda(coluna):\n",
    "    return coluna.mode()"
   ]
  },
  {
   "cell_type": "code",
   "execution_count": 28,
   "id": "388247df-6993-41c4-8561-f2d3a0d4f634",
   "metadata": {},
   "outputs": [
    {
     "data": {
      "text/plain": [
       "Profissão\n",
       "Advogado(a)                       7.2\n",
       "Cientista                  [5.8, 6.2]\n",
       "Contador(a)                       7.2\n",
       "Enfermeiro(a)                     6.1\n",
       "Eng. de Software                  7.5\n",
       "Engenheiro(a)                     8.4\n",
       "Gerente                           6.9\n",
       "Médico(a)                         6.0\n",
       "Pessoa Vendendora                 6.5\n",
       "Professor(a)                      6.6\n",
       "Representante de Vendas           5.9\n",
       "Name: Duração do sono, dtype: object"
      ]
     },
     "execution_count": 28,
     "metadata": {},
     "output_type": "execute_result"
    }
   ],
   "source": [
    "df_health.groupby('Profissão')['Duração do sono'].agg(moda)"
   ]
  },
  {
   "cell_type": "code",
   "execution_count": 38,
   "id": "7541d122-bba1-454b-9ff7-278a81f502cd",
   "metadata": {},
   "outputs": [
    {
     "data": {
      "text/plain": [
       "0    7.2\n",
       "Name: Duração do sono, dtype: float64"
      ]
     },
     "execution_count": 38,
     "metadata": {},
     "output_type": "execute_result"
    }
   ],
   "source": [
    "df_health['Duração do sono'][df_health['Profissão'] == 'Advogado(a)'].mode()"
   ]
  },
  {
   "cell_type": "code",
   "execution_count": 32,
   "id": "5bdfa9d6-5a4e-4702-89e0-868f711bb942",
   "metadata": {},
   "outputs": [],
   "source": [
    "# mediana\n",
    "\n",
    "def mediana(coluna):\n",
    "    return coluna.median()"
   ]
  },
  {
   "cell_type": "code",
   "execution_count": 33,
   "id": "7cc9c17d-4aab-48b4-af8f-5104fcc5888c",
   "metadata": {},
   "outputs": [
    {
     "data": {
      "text/plain": [
       "Profissão\n",
       "Advogado(a)                7.3\n",
       "Cientista                  6.0\n",
       "Contador(a)                7.2\n",
       "Enfermeiro(a)              6.5\n",
       "Eng. de Software           6.8\n",
       "Engenheiro(a)              8.3\n",
       "Gerente                    6.9\n",
       "Médico(a)                  7.6\n",
       "Pessoa Vendendora          6.4\n",
       "Professor(a)               6.6\n",
       "Representante de Vendas    5.9\n",
       "Name: Duração do sono, dtype: float64"
      ]
     },
     "execution_count": 33,
     "metadata": {},
     "output_type": "execute_result"
    }
   ],
   "source": [
    "df_health.groupby('Profissão')['Duração do sono'].agg(mediana)"
   ]
  },
  {
   "cell_type": "code",
   "execution_count": 37,
   "id": "b3f2a122-3600-4edc-bdc0-0c99b6a5b9a4",
   "metadata": {},
   "outputs": [
    {
     "data": {
      "text/plain": [
       "7.3"
      ]
     },
     "execution_count": 37,
     "metadata": {},
     "output_type": "execute_result"
    }
   ],
   "source": [
    "df_health['Duração do sono'][df_health['Profissão'] == 'Advogado(a)'].median()"
   ]
  },
  {
   "cell_type": "code",
   "execution_count": null,
   "id": "ad6c451e-4d4f-4189-a3d0-fc0e52f9ee30",
   "metadata": {},
   "outputs": [],
   "source": []
  },
  {
   "cell_type": "markdown",
   "id": "89f4526a-c6ff-4998-b953-fd0faef3f45a",
   "metadata": {
    "jp-MarkdownHeadingCollapsed": true,
    "tags": []
   },
   "source": [
    "### #3"
   ]
  },
  {
   "cell_type": "code",
   "execution_count": 41,
   "id": "82439a49-4cdd-4700-9637-5e8549727cd6",
   "metadata": {},
   "outputs": [
    {
     "data": {
      "text/html": [
       "<div>\n",
       "<style scoped>\n",
       "    .dataframe tbody tr th:only-of-type {\n",
       "        vertical-align: middle;\n",
       "    }\n",
       "\n",
       "    .dataframe tbody tr th {\n",
       "        vertical-align: top;\n",
       "    }\n",
       "\n",
       "    .dataframe thead th {\n",
       "        text-align: right;\n",
       "    }\n",
       "</style>\n",
       "<table border=\"1\" class=\"dataframe\">\n",
       "  <thead>\n",
       "    <tr style=\"text-align: right;\">\n",
       "      <th></th>\n",
       "      <th>Identificador</th>\n",
       "      <th>Gênero</th>\n",
       "      <th>Idade</th>\n",
       "      <th>Profissão</th>\n",
       "      <th>Duração do sono</th>\n",
       "      <th>Qualidade do sono</th>\n",
       "      <th>Nível de atividade física</th>\n",
       "      <th>Nível de estresse</th>\n",
       "      <th>Categoria IMC</th>\n",
       "      <th>Pressão sanguínea</th>\n",
       "      <th>Frequência cardíaca</th>\n",
       "      <th>Passos diários</th>\n",
       "      <th>Distúrbio do sono</th>\n",
       "    </tr>\n",
       "  </thead>\n",
       "  <tbody>\n",
       "    <tr>\n",
       "      <th>0</th>\n",
       "      <td>1</td>\n",
       "      <td>Homem</td>\n",
       "      <td>27</td>\n",
       "      <td>Eng. de Software</td>\n",
       "      <td>6.1</td>\n",
       "      <td>6</td>\n",
       "      <td>42</td>\n",
       "      <td>6</td>\n",
       "      <td>Sobrepeso</td>\n",
       "      <td>126/83</td>\n",
       "      <td>77</td>\n",
       "      <td>4200</td>\n",
       "      <td>Nenhuma</td>\n",
       "    </tr>\n",
       "    <tr>\n",
       "      <th>1</th>\n",
       "      <td>2</td>\n",
       "      <td>Homem</td>\n",
       "      <td>28</td>\n",
       "      <td>Médico(a)</td>\n",
       "      <td>6.2</td>\n",
       "      <td>6</td>\n",
       "      <td>60</td>\n",
       "      <td>8</td>\n",
       "      <td>Normal</td>\n",
       "      <td>125/80</td>\n",
       "      <td>75</td>\n",
       "      <td>10000</td>\n",
       "      <td>Nenhuma</td>\n",
       "    </tr>\n",
       "    <tr>\n",
       "      <th>2</th>\n",
       "      <td>3</td>\n",
       "      <td>Homem</td>\n",
       "      <td>28</td>\n",
       "      <td>Médico(a)</td>\n",
       "      <td>6.2</td>\n",
       "      <td>6</td>\n",
       "      <td>60</td>\n",
       "      <td>8</td>\n",
       "      <td>Normal</td>\n",
       "      <td>125/80</td>\n",
       "      <td>75</td>\n",
       "      <td>10000</td>\n",
       "      <td>Nenhuma</td>\n",
       "    </tr>\n",
       "    <tr>\n",
       "      <th>3</th>\n",
       "      <td>4</td>\n",
       "      <td>Homem</td>\n",
       "      <td>28</td>\n",
       "      <td>Representante de Vendas</td>\n",
       "      <td>5.9</td>\n",
       "      <td>4</td>\n",
       "      <td>30</td>\n",
       "      <td>8</td>\n",
       "      <td>Obesidade</td>\n",
       "      <td>140/90</td>\n",
       "      <td>85</td>\n",
       "      <td>3000</td>\n",
       "      <td>Apneia do sono</td>\n",
       "    </tr>\n",
       "    <tr>\n",
       "      <th>4</th>\n",
       "      <td>5</td>\n",
       "      <td>Homem</td>\n",
       "      <td>28</td>\n",
       "      <td>Representante de Vendas</td>\n",
       "      <td>5.9</td>\n",
       "      <td>4</td>\n",
       "      <td>30</td>\n",
       "      <td>8</td>\n",
       "      <td>Obesidade</td>\n",
       "      <td>140/90</td>\n",
       "      <td>85</td>\n",
       "      <td>3000</td>\n",
       "      <td>Apneia do sono</td>\n",
       "    </tr>\n",
       "    <tr>\n",
       "      <th>5</th>\n",
       "      <td>6</td>\n",
       "      <td>Homem</td>\n",
       "      <td>28</td>\n",
       "      <td>Eng. de Software</td>\n",
       "      <td>5.9</td>\n",
       "      <td>4</td>\n",
       "      <td>30</td>\n",
       "      <td>8</td>\n",
       "      <td>Obesidade</td>\n",
       "      <td>140/90</td>\n",
       "      <td>85</td>\n",
       "      <td>3000</td>\n",
       "      <td>Insônia</td>\n",
       "    </tr>\n",
       "    <tr>\n",
       "      <th>6</th>\n",
       "      <td>7</td>\n",
       "      <td>Homem</td>\n",
       "      <td>29</td>\n",
       "      <td>Professor(a)</td>\n",
       "      <td>6.3</td>\n",
       "      <td>6</td>\n",
       "      <td>40</td>\n",
       "      <td>7</td>\n",
       "      <td>Obesidade</td>\n",
       "      <td>140/90</td>\n",
       "      <td>82</td>\n",
       "      <td>3500</td>\n",
       "      <td>Insônia</td>\n",
       "    </tr>\n",
       "    <tr>\n",
       "      <th>7</th>\n",
       "      <td>8</td>\n",
       "      <td>Homem</td>\n",
       "      <td>29</td>\n",
       "      <td>Médico(a)</td>\n",
       "      <td>7.8</td>\n",
       "      <td>7</td>\n",
       "      <td>75</td>\n",
       "      <td>6</td>\n",
       "      <td>Normal</td>\n",
       "      <td>120/80</td>\n",
       "      <td>70</td>\n",
       "      <td>8000</td>\n",
       "      <td>Nenhuma</td>\n",
       "    </tr>\n",
       "    <tr>\n",
       "      <th>8</th>\n",
       "      <td>9</td>\n",
       "      <td>Homem</td>\n",
       "      <td>29</td>\n",
       "      <td>Médico(a)</td>\n",
       "      <td>7.8</td>\n",
       "      <td>7</td>\n",
       "      <td>75</td>\n",
       "      <td>6</td>\n",
       "      <td>Normal</td>\n",
       "      <td>120/80</td>\n",
       "      <td>70</td>\n",
       "      <td>8000</td>\n",
       "      <td>Nenhuma</td>\n",
       "    </tr>\n",
       "    <tr>\n",
       "      <th>9</th>\n",
       "      <td>10</td>\n",
       "      <td>Homem</td>\n",
       "      <td>29</td>\n",
       "      <td>Médico(a)</td>\n",
       "      <td>7.8</td>\n",
       "      <td>7</td>\n",
       "      <td>75</td>\n",
       "      <td>6</td>\n",
       "      <td>Normal</td>\n",
       "      <td>120/80</td>\n",
       "      <td>70</td>\n",
       "      <td>8000</td>\n",
       "      <td>Nenhuma</td>\n",
       "    </tr>\n",
       "  </tbody>\n",
       "</table>\n",
       "</div>"
      ],
      "text/plain": [
       "   Identificador Gênero  Idade                Profissão  Duração do sono  \\\n",
       "0              1  Homem     27         Eng. de Software              6.1   \n",
       "1              2  Homem     28                Médico(a)              6.2   \n",
       "2              3  Homem     28                Médico(a)              6.2   \n",
       "3              4  Homem     28  Representante de Vendas              5.9   \n",
       "4              5  Homem     28  Representante de Vendas              5.9   \n",
       "5              6  Homem     28         Eng. de Software              5.9   \n",
       "6              7  Homem     29             Professor(a)              6.3   \n",
       "7              8  Homem     29                Médico(a)              7.8   \n",
       "8              9  Homem     29                Médico(a)              7.8   \n",
       "9             10  Homem     29                Médico(a)              7.8   \n",
       "\n",
       "   Qualidade do sono  Nível de atividade física  Nível de estresse  \\\n",
       "0                  6                         42                  6   \n",
       "1                  6                         60                  8   \n",
       "2                  6                         60                  8   \n",
       "3                  4                         30                  8   \n",
       "4                  4                         30                  8   \n",
       "5                  4                         30                  8   \n",
       "6                  6                         40                  7   \n",
       "7                  7                         75                  6   \n",
       "8                  7                         75                  6   \n",
       "9                  7                         75                  6   \n",
       "\n",
       "  Categoria IMC Pressão sanguínea  Frequência cardíaca  Passos diários  \\\n",
       "0     Sobrepeso            126/83                   77            4200   \n",
       "1        Normal            125/80                   75           10000   \n",
       "2        Normal            125/80                   75           10000   \n",
       "3     Obesidade            140/90                   85            3000   \n",
       "4     Obesidade            140/90                   85            3000   \n",
       "5     Obesidade            140/90                   85            3000   \n",
       "6     Obesidade            140/90                   82            3500   \n",
       "7        Normal            120/80                   70            8000   \n",
       "8        Normal            120/80                   70            8000   \n",
       "9        Normal            120/80                   70            8000   \n",
       "\n",
       "  Distúrbio do sono  \n",
       "0           Nenhuma  \n",
       "1           Nenhuma  \n",
       "2           Nenhuma  \n",
       "3    Apneia do sono  \n",
       "4    Apneia do sono  \n",
       "5           Insônia  \n",
       "6           Insônia  \n",
       "7           Nenhuma  \n",
       "8           Nenhuma  \n",
       "9           Nenhuma  "
      ]
     },
     "execution_count": 41,
     "metadata": {},
     "output_type": "execute_result"
    }
   ],
   "source": [
    "df_health.head(10)"
   ]
  },
  {
   "cell_type": "code",
   "execution_count": null,
   "id": "1101b470-4c94-404b-b17d-675ca8721f30",
   "metadata": {},
   "outputs": [
    {
     "data": {
      "text/plain": [
       "Normal         195\n",
       "Sobrepeso      147\n",
       "Peso normal     21\n",
       "Obesidade       10\n",
       "Name: Categoria IMC, dtype: int64"
      ]
     },
     "execution_count": 42,
     "metadata": {},
     "output_type": "execute_result"
    }
   ],
   "source": [
    "df_health['Categoria IMC'].value_counts()"
   ]
  },
  {
   "cell_type": "code",
   "execution_count": 47,
   "id": "16044dcb-0ceb-4d16-8e38-e06107aa2b90",
   "metadata": {},
   "outputs": [
    {
     "data": {
      "text/plain": [
       "Enfermeiro(a)              72\n",
       "Médico(a)                  71\n",
       "Engenheiro(a)              63\n",
       "Advogado(a)                47\n",
       "Professor(a)               40\n",
       "Contador(a)                37\n",
       "Pessoa Vendendora          32\n",
       "Eng. de Software            4\n",
       "Cientista                   4\n",
       "Representante de Vendas     2\n",
       "Gerente                     1\n",
       "Name: Profissão, dtype: int64"
      ]
     },
     "execution_count": 47,
     "metadata": {},
     "output_type": "execute_result"
    }
   ],
   "source": [
    "df_health['Profissão'].value_counts()"
   ]
  },
  {
   "cell_type": "code",
   "execution_count": 54,
   "id": "2ec0d727-9c46-4e29-92d0-6d02bcbad23a",
   "metadata": {},
   "outputs": [],
   "source": [
    "perc_obesos_eng = df_health['Identificador'].loc[(df_health['Profissão'] == 'Eng. de Software') & (df_health['Categoria IMC'] == 'Obesidade')].count()/df_health['Identificador'][df_health['Profissão'] == 'Eng. de Software'].count() * 100"
   ]
  },
  {
   "cell_type": "code",
   "execution_count": 56,
   "id": "2ac0debd-8660-4a19-8775-987da805b743",
   "metadata": {},
   "outputs": [
    {
     "name": "stdout",
     "output_type": "stream",
     "text": [
      "O percentual de obesos dentre os profissionais de Engenharia de Software é de 25.0%\n"
     ]
    }
   ],
   "source": [
    "print(f'O percentual de obesos dentre os profissionais de Engenharia de Software é de {perc_obesos_eng}%')"
   ]
  },
  {
   "cell_type": "code",
   "execution_count": null,
   "id": "8cf7d345-0607-4ec5-b614-631e09965adc",
   "metadata": {},
   "outputs": [],
   "source": []
  },
  {
   "cell_type": "markdown",
   "id": "2d518146-8b5d-467d-b6ba-722492fe923b",
   "metadata": {
    "jp-MarkdownHeadingCollapsed": true,
    "tags": []
   },
   "source": [
    "### #4"
   ]
  },
  {
   "cell_type": "code",
   "execution_count": 57,
   "id": "75bfb229-6dd3-4d35-9660-ee0355a9c7c7",
   "metadata": {},
   "outputs": [
    {
     "data": {
      "text/html": [
       "<div>\n",
       "<style scoped>\n",
       "    .dataframe tbody tr th:only-of-type {\n",
       "        vertical-align: middle;\n",
       "    }\n",
       "\n",
       "    .dataframe tbody tr th {\n",
       "        vertical-align: top;\n",
       "    }\n",
       "\n",
       "    .dataframe thead th {\n",
       "        text-align: right;\n",
       "    }\n",
       "</style>\n",
       "<table border=\"1\" class=\"dataframe\">\n",
       "  <thead>\n",
       "    <tr style=\"text-align: right;\">\n",
       "      <th></th>\n",
       "      <th>Identificador</th>\n",
       "      <th>Gênero</th>\n",
       "      <th>Idade</th>\n",
       "      <th>Profissão</th>\n",
       "      <th>Duração do sono</th>\n",
       "      <th>Qualidade do sono</th>\n",
       "      <th>Nível de atividade física</th>\n",
       "      <th>Nível de estresse</th>\n",
       "      <th>Categoria IMC</th>\n",
       "      <th>Pressão sanguínea</th>\n",
       "      <th>Frequência cardíaca</th>\n",
       "      <th>Passos diários</th>\n",
       "      <th>Distúrbio do sono</th>\n",
       "    </tr>\n",
       "  </thead>\n",
       "  <tbody>\n",
       "    <tr>\n",
       "      <th>0</th>\n",
       "      <td>1</td>\n",
       "      <td>Homem</td>\n",
       "      <td>27</td>\n",
       "      <td>Eng. de Software</td>\n",
       "      <td>6.1</td>\n",
       "      <td>6</td>\n",
       "      <td>42</td>\n",
       "      <td>6</td>\n",
       "      <td>Sobrepeso</td>\n",
       "      <td>126/83</td>\n",
       "      <td>77</td>\n",
       "      <td>4200</td>\n",
       "      <td>Nenhuma</td>\n",
       "    </tr>\n",
       "    <tr>\n",
       "      <th>1</th>\n",
       "      <td>2</td>\n",
       "      <td>Homem</td>\n",
       "      <td>28</td>\n",
       "      <td>Médico(a)</td>\n",
       "      <td>6.2</td>\n",
       "      <td>6</td>\n",
       "      <td>60</td>\n",
       "      <td>8</td>\n",
       "      <td>Normal</td>\n",
       "      <td>125/80</td>\n",
       "      <td>75</td>\n",
       "      <td>10000</td>\n",
       "      <td>Nenhuma</td>\n",
       "    </tr>\n",
       "    <tr>\n",
       "      <th>2</th>\n",
       "      <td>3</td>\n",
       "      <td>Homem</td>\n",
       "      <td>28</td>\n",
       "      <td>Médico(a)</td>\n",
       "      <td>6.2</td>\n",
       "      <td>6</td>\n",
       "      <td>60</td>\n",
       "      <td>8</td>\n",
       "      <td>Normal</td>\n",
       "      <td>125/80</td>\n",
       "      <td>75</td>\n",
       "      <td>10000</td>\n",
       "      <td>Nenhuma</td>\n",
       "    </tr>\n",
       "    <tr>\n",
       "      <th>3</th>\n",
       "      <td>4</td>\n",
       "      <td>Homem</td>\n",
       "      <td>28</td>\n",
       "      <td>Representante de Vendas</td>\n",
       "      <td>5.9</td>\n",
       "      <td>4</td>\n",
       "      <td>30</td>\n",
       "      <td>8</td>\n",
       "      <td>Obesidade</td>\n",
       "      <td>140/90</td>\n",
       "      <td>85</td>\n",
       "      <td>3000</td>\n",
       "      <td>Apneia do sono</td>\n",
       "    </tr>\n",
       "    <tr>\n",
       "      <th>4</th>\n",
       "      <td>5</td>\n",
       "      <td>Homem</td>\n",
       "      <td>28</td>\n",
       "      <td>Representante de Vendas</td>\n",
       "      <td>5.9</td>\n",
       "      <td>4</td>\n",
       "      <td>30</td>\n",
       "      <td>8</td>\n",
       "      <td>Obesidade</td>\n",
       "      <td>140/90</td>\n",
       "      <td>85</td>\n",
       "      <td>3000</td>\n",
       "      <td>Apneia do sono</td>\n",
       "    </tr>\n",
       "  </tbody>\n",
       "</table>\n",
       "</div>"
      ],
      "text/plain": [
       "   Identificador Gênero  Idade                Profissão  Duração do sono  \\\n",
       "0              1  Homem     27         Eng. de Software              6.1   \n",
       "1              2  Homem     28                Médico(a)              6.2   \n",
       "2              3  Homem     28                Médico(a)              6.2   \n",
       "3              4  Homem     28  Representante de Vendas              5.9   \n",
       "4              5  Homem     28  Representante de Vendas              5.9   \n",
       "\n",
       "   Qualidade do sono  Nível de atividade física  Nível de estresse  \\\n",
       "0                  6                         42                  6   \n",
       "1                  6                         60                  8   \n",
       "2                  6                         60                  8   \n",
       "3                  4                         30                  8   \n",
       "4                  4                         30                  8   \n",
       "\n",
       "  Categoria IMC Pressão sanguínea  Frequência cardíaca  Passos diários  \\\n",
       "0     Sobrepeso            126/83                   77            4200   \n",
       "1        Normal            125/80                   75           10000   \n",
       "2        Normal            125/80                   75           10000   \n",
       "3     Obesidade            140/90                   85            3000   \n",
       "4     Obesidade            140/90                   85            3000   \n",
       "\n",
       "  Distúrbio do sono  \n",
       "0           Nenhuma  \n",
       "1           Nenhuma  \n",
       "2           Nenhuma  \n",
       "3    Apneia do sono  \n",
       "4    Apneia do sono  "
      ]
     },
     "execution_count": 57,
     "metadata": {},
     "output_type": "execute_result"
    }
   ],
   "source": [
    "df_health.head(5)"
   ]
  },
  {
   "cell_type": "code",
   "execution_count": 59,
   "id": "9dd0a816-de7b-49a9-92ec-91ead4b6bc4f",
   "metadata": {},
   "outputs": [
    {
     "data": {
      "text/plain": [
       "8    109\n",
       "6    105\n",
       "7     77\n",
       "9     70\n",
       "5      7\n",
       "4      5\n",
       "Name: Qualidade do sono, dtype: int64"
      ]
     },
     "execution_count": 59,
     "metadata": {},
     "output_type": "execute_result"
    }
   ],
   "source": [
    "df_health['Qualidade do sono'].value_counts()"
   ]
  },
  {
   "cell_type": "code",
   "execution_count": 87,
   "id": "e43f65ef-1431-426b-b546-36216f0a847c",
   "metadata": {},
   "outputs": [
    {
     "data": {
      "text/html": [
       "<div>\n",
       "<style scoped>\n",
       "    .dataframe tbody tr th:only-of-type {\n",
       "        vertical-align: middle;\n",
       "    }\n",
       "\n",
       "    .dataframe tbody tr th {\n",
       "        vertical-align: top;\n",
       "    }\n",
       "\n",
       "    .dataframe thead th {\n",
       "        text-align: right;\n",
       "    }\n",
       "</style>\n",
       "<table border=\"1\" class=\"dataframe\">\n",
       "  <thead>\n",
       "    <tr style=\"text-align: right;\">\n",
       "      <th></th>\n",
       "      <th>Profissão</th>\n",
       "      <th>Duração do sono</th>\n",
       "    </tr>\n",
       "  </thead>\n",
       "  <tbody>\n",
       "    <tr>\n",
       "      <th>3</th>\n",
       "      <td>Representante de Vendas</td>\n",
       "      <td>5.9</td>\n",
       "    </tr>\n",
       "    <tr>\n",
       "      <th>4</th>\n",
       "      <td>Representante de Vendas</td>\n",
       "      <td>5.9</td>\n",
       "    </tr>\n",
       "    <tr>\n",
       "      <th>93</th>\n",
       "      <td>Advogado(a)</td>\n",
       "      <td>7.4</td>\n",
       "    </tr>\n",
       "    <tr>\n",
       "      <th>109</th>\n",
       "      <td>Advogado(a)</td>\n",
       "      <td>7.4</td>\n",
       "    </tr>\n",
       "    <tr>\n",
       "      <th>111</th>\n",
       "      <td>Advogado(a)</td>\n",
       "      <td>7.4</td>\n",
       "    </tr>\n",
       "  </tbody>\n",
       "</table>\n",
       "</div>"
      ],
      "text/plain": [
       "                   Profissão  Duração do sono\n",
       "3    Representante de Vendas              5.9\n",
       "4    Representante de Vendas              5.9\n",
       "93               Advogado(a)              7.4\n",
       "109              Advogado(a)              7.4\n",
       "111              Advogado(a)              7.4"
      ]
     },
     "execution_count": 87,
     "metadata": {},
     "output_type": "execute_result"
    }
   ],
   "source": [
    "df_sleep_quality = df_health[['Profissão','Duração do sono']][df_health['Profissão'].isin(['Advogado(a)','Representante de Vendas'])]\n",
    "df_sleep_quality.head(5)"
   ]
  },
  {
   "cell_type": "markdown",
   "id": "5c2d4228-c210-4c9d-92aa-d41b6a565b05",
   "metadata": {},
   "source": [
    "#### Com base nos dados ser Representante de Vendas faz você dormir menos"
   ]
  },
  {
   "cell_type": "code",
   "execution_count": 88,
   "id": "638b8a13-216b-4849-a203-2148946ba27e",
   "metadata": {},
   "outputs": [
    {
     "data": {
      "text/plain": [
       "Profissão\n",
       "Advogado(a)                7.410638\n",
       "Representante de Vendas    5.900000\n",
       "Name: Duração do sono, dtype: float64"
      ]
     },
     "execution_count": 88,
     "metadata": {},
     "output_type": "execute_result"
    }
   ],
   "source": [
    "df_sleep_quality.groupby('Profissão')['Duração do sono'].mean()"
   ]
  },
  {
   "cell_type": "code",
   "execution_count": null,
   "id": "19055265-b136-454a-a7ed-d63ceb153c4e",
   "metadata": {},
   "outputs": [],
   "source": []
  },
  {
   "cell_type": "markdown",
   "id": "af5958e8-54ab-4441-a7ea-064216ee2748",
   "metadata": {
    "jp-MarkdownHeadingCollapsed": true,
    "tags": []
   },
   "source": [
    "### #5"
   ]
  },
  {
   "cell_type": "code",
   "execution_count": 103,
   "id": "2b615a29-309b-4dbe-9ee8-3da410d159b4",
   "metadata": {},
   "outputs": [
    {
     "data": {
      "text/html": [
       "<div>\n",
       "<style scoped>\n",
       "    .dataframe tbody tr th:only-of-type {\n",
       "        vertical-align: middle;\n",
       "    }\n",
       "\n",
       "    .dataframe tbody tr th {\n",
       "        vertical-align: top;\n",
       "    }\n",
       "\n",
       "    .dataframe thead th {\n",
       "        text-align: right;\n",
       "    }\n",
       "</style>\n",
       "<table border=\"1\" class=\"dataframe\">\n",
       "  <thead>\n",
       "    <tr style=\"text-align: right;\">\n",
       "      <th></th>\n",
       "      <th>Profissão</th>\n",
       "      <th>Duração do sono</th>\n",
       "    </tr>\n",
       "  </thead>\n",
       "  <tbody>\n",
       "    <tr>\n",
       "      <th>1</th>\n",
       "      <td>Médico(a)</td>\n",
       "      <td>6.2</td>\n",
       "    </tr>\n",
       "    <tr>\n",
       "      <th>2</th>\n",
       "      <td>Médico(a)</td>\n",
       "      <td>6.2</td>\n",
       "    </tr>\n",
       "    <tr>\n",
       "      <th>7</th>\n",
       "      <td>Médico(a)</td>\n",
       "      <td>7.8</td>\n",
       "    </tr>\n",
       "    <tr>\n",
       "      <th>8</th>\n",
       "      <td>Médico(a)</td>\n",
       "      <td>7.8</td>\n",
       "    </tr>\n",
       "    <tr>\n",
       "      <th>9</th>\n",
       "      <td>Médico(a)</td>\n",
       "      <td>7.8</td>\n",
       "    </tr>\n",
       "    <tr>\n",
       "      <th>10</th>\n",
       "      <td>Médico(a)</td>\n",
       "      <td>6.1</td>\n",
       "    </tr>\n",
       "    <tr>\n",
       "      <th>11</th>\n",
       "      <td>Médico(a)</td>\n",
       "      <td>7.8</td>\n",
       "    </tr>\n",
       "    <tr>\n",
       "      <th>12</th>\n",
       "      <td>Médico(a)</td>\n",
       "      <td>6.1</td>\n",
       "    </tr>\n",
       "    <tr>\n",
       "      <th>13</th>\n",
       "      <td>Médico(a)</td>\n",
       "      <td>6.0</td>\n",
       "    </tr>\n",
       "    <tr>\n",
       "      <th>14</th>\n",
       "      <td>Médico(a)</td>\n",
       "      <td>6.0</td>\n",
       "    </tr>\n",
       "    <tr>\n",
       "      <th>15</th>\n",
       "      <td>Médico(a)</td>\n",
       "      <td>6.0</td>\n",
       "    </tr>\n",
       "    <tr>\n",
       "      <th>16</th>\n",
       "      <td>Enfermeiro(a)</td>\n",
       "      <td>6.5</td>\n",
       "    </tr>\n",
       "    <tr>\n",
       "      <th>17</th>\n",
       "      <td>Médico(a)</td>\n",
       "      <td>6.0</td>\n",
       "    </tr>\n",
       "    <tr>\n",
       "      <th>18</th>\n",
       "      <td>Enfermeiro(a)</td>\n",
       "      <td>6.5</td>\n",
       "    </tr>\n",
       "    <tr>\n",
       "      <th>19</th>\n",
       "      <td>Médico(a)</td>\n",
       "      <td>7.6</td>\n",
       "    </tr>\n",
       "  </tbody>\n",
       "</table>\n",
       "</div>"
      ],
      "text/plain": [
       "        Profissão  Duração do sono\n",
       "1       Médico(a)              6.2\n",
       "2       Médico(a)              6.2\n",
       "7       Médico(a)              7.8\n",
       "8       Médico(a)              7.8\n",
       "9       Médico(a)              7.8\n",
       "10      Médico(a)              6.1\n",
       "11      Médico(a)              7.8\n",
       "12      Médico(a)              6.1\n",
       "13      Médico(a)              6.0\n",
       "14      Médico(a)              6.0\n",
       "15      Médico(a)              6.0\n",
       "16  Enfermeiro(a)              6.5\n",
       "17      Médico(a)              6.0\n",
       "18  Enfermeiro(a)              6.5\n",
       "19      Médico(a)              7.6"
      ]
     },
     "execution_count": 103,
     "metadata": {},
     "output_type": "execute_result"
    }
   ],
   "source": [
    "df_health_sleep_quality = df_health[['Profissão','Duração do sono']][df_health['Profissão'].isin(['Enfermeiro(a)','Médico(a)'])]\n",
    "df_health_sleep_quality.head(15)"
   ]
  },
  {
   "cell_type": "markdown",
   "id": "9b645230-e1bf-48d3-8e26-517a61ffc720",
   "metadata": {},
   "source": [
    "#### As duas profissões tem duração de sono parecidas, de acordo com os números os médicos possuem levemente menos horas de sono"
   ]
  },
  {
   "cell_type": "code",
   "execution_count": 105,
   "id": "ac9ff92a-6797-4a38-b6e4-b82822b36d1a",
   "metadata": {},
   "outputs": [
    {
     "data": {
      "text/plain": [
       "Profissão\n",
       "Enfermeiro(a)    7.048611\n",
       "Médico(a)        6.970423\n",
       "Name: Duração do sono, dtype: float64"
      ]
     },
     "execution_count": 105,
     "metadata": {},
     "output_type": "execute_result"
    }
   ],
   "source": [
    "df_health_sleep_quality.groupby('Profissão')['Duração do sono'].mean()"
   ]
  },
  {
   "cell_type": "code",
   "execution_count": null,
   "id": "a67877cb-1fc5-4d81-844d-dadeb1eb9d1d",
   "metadata": {},
   "outputs": [],
   "source": []
  },
  {
   "cell_type": "markdown",
   "id": "7ba93235-e3e9-4ddc-ade3-e1a7d15a15b1",
   "metadata": {
    "jp-MarkdownHeadingCollapsed": true,
    "tags": []
   },
   "source": [
    "### #6"
   ]
  },
  {
   "cell_type": "code",
   "execution_count": 209,
   "id": "5c7fb716-750e-4eeb-a83e-2fa2bd9042bd",
   "metadata": {},
   "outputs": [
    {
     "data": {
      "text/html": [
       "<div>\n",
       "<style scoped>\n",
       "    .dataframe tbody tr th:only-of-type {\n",
       "        vertical-align: middle;\n",
       "    }\n",
       "\n",
       "    .dataframe tbody tr th {\n",
       "        vertical-align: top;\n",
       "    }\n",
       "\n",
       "    .dataframe thead th {\n",
       "        text-align: right;\n",
       "    }\n",
       "</style>\n",
       "<table border=\"1\" class=\"dataframe\">\n",
       "  <thead>\n",
       "    <tr style=\"text-align: right;\">\n",
       "      <th></th>\n",
       "      <th>Identificador</th>\n",
       "      <th>Gênero</th>\n",
       "      <th>Idade</th>\n",
       "      <th>Profissão</th>\n",
       "      <th>Pressão sanguínea</th>\n",
       "      <th>Frequência cardíaca</th>\n",
       "    </tr>\n",
       "  </thead>\n",
       "  <tbody>\n",
       "    <tr>\n",
       "      <th>0</th>\n",
       "      <td>1</td>\n",
       "      <td>Homem</td>\n",
       "      <td>27</td>\n",
       "      <td>Eng. de Software</td>\n",
       "      <td>126/83</td>\n",
       "      <td>77</td>\n",
       "    </tr>\n",
       "    <tr>\n",
       "      <th>1</th>\n",
       "      <td>2</td>\n",
       "      <td>Homem</td>\n",
       "      <td>28</td>\n",
       "      <td>Médico(a)</td>\n",
       "      <td>125/80</td>\n",
       "      <td>75</td>\n",
       "    </tr>\n",
       "  </tbody>\n",
       "</table>\n",
       "</div>"
      ],
      "text/plain": [
       "   Identificador Gênero  Idade         Profissão Pressão sanguínea  \\\n",
       "0              1  Homem     27  Eng. de Software            126/83   \n",
       "1              2  Homem     28         Médico(a)            125/80   \n",
       "\n",
       "   Frequência cardíaca  \n",
       "0                   77  \n",
       "1                   75  "
      ]
     },
     "execution_count": 209,
     "metadata": {},
     "output_type": "execute_result"
    }
   ],
   "source": [
    "df_subconjunto = df_health[['Identificador', 'Gênero', 'Idade','Profissão','Pressão sanguínea','Frequência cardíaca']]\n",
    "df_subconjunto.head(2)"
   ]
  },
  {
   "cell_type": "markdown",
   "id": "8c85dedc-1288-44ea-a2a3-ef2f420d0dd5",
   "metadata": {
    "jp-MarkdownHeadingCollapsed": true,
    "tags": []
   },
   "source": [
    "### #7"
   ]
  },
  {
   "cell_type": "markdown",
   "id": "6ba37f8b-0a7b-4b68-8914-211e48dd9bab",
   "metadata": {
    "tags": []
   },
   "source": [
    "#### A profissão menos frequente é a de Gerente"
   ]
  },
  {
   "cell_type": "code",
   "execution_count": 110,
   "id": "229ecc2b-a0ba-414b-b69f-24c3b6da85f2",
   "metadata": {},
   "outputs": [
    {
     "data": {
      "text/plain": [
       "Gerente                     1\n",
       "Representante de Vendas     2\n",
       "Eng. de Software            4\n",
       "Cientista                   4\n",
       "Pessoa Vendendora          32\n",
       "Contador(a)                37\n",
       "Professor(a)               40\n",
       "Advogado(a)                47\n",
       "Engenheiro(a)              63\n",
       "Médico(a)                  71\n",
       "Enfermeiro(a)              72\n",
       "Name: Profissão, dtype: int64"
      ]
     },
     "execution_count": 110,
     "metadata": {},
     "output_type": "execute_result"
    }
   ],
   "source": [
    "df_subconjunto['Profissão'].value_counts(ascending=True)"
   ]
  },
  {
   "cell_type": "markdown",
   "id": "99c049a9-a4f9-4e73-8d66-8032f7e26134",
   "metadata": {
    "jp-MarkdownHeadingCollapsed": true,
    "tags": []
   },
   "source": [
    "### #8"
   ]
  },
  {
   "cell_type": "code",
   "execution_count": 212,
   "id": "5326149b-9ada-463c-9cc3-5928e6aa2c15",
   "metadata": {},
   "outputs": [],
   "source": [
    "df_pressao = df_subconjunto"
   ]
  },
  {
   "cell_type": "code",
   "execution_count": 214,
   "id": "78cdaf2f-fa95-406d-bc8f-dd9a4a730f79",
   "metadata": {},
   "outputs": [],
   "source": [
    "df_pressao[['Pressão sistólica','Pressão diastólica']] = df_pressao['Pressão sanguínea'].str.split('/', 1,expand=True)"
   ]
  },
  {
   "cell_type": "code",
   "execution_count": 215,
   "id": "c204cbc8-accc-4815-94b1-0c2895d3dcad",
   "metadata": {},
   "outputs": [
    {
     "data": {
      "text/html": [
       "<div>\n",
       "<style scoped>\n",
       "    .dataframe tbody tr th:only-of-type {\n",
       "        vertical-align: middle;\n",
       "    }\n",
       "\n",
       "    .dataframe tbody tr th {\n",
       "        vertical-align: top;\n",
       "    }\n",
       "\n",
       "    .dataframe thead th {\n",
       "        text-align: right;\n",
       "    }\n",
       "</style>\n",
       "<table border=\"1\" class=\"dataframe\">\n",
       "  <thead>\n",
       "    <tr style=\"text-align: right;\">\n",
       "      <th></th>\n",
       "      <th>Identificador</th>\n",
       "      <th>Gênero</th>\n",
       "      <th>Idade</th>\n",
       "      <th>Profissão</th>\n",
       "      <th>Pressão sanguínea</th>\n",
       "      <th>Frequência cardíaca</th>\n",
       "      <th>Pressão sistólica</th>\n",
       "      <th>Pressão diastólica</th>\n",
       "    </tr>\n",
       "  </thead>\n",
       "  <tbody>\n",
       "    <tr>\n",
       "      <th>0</th>\n",
       "      <td>1</td>\n",
       "      <td>Homem</td>\n",
       "      <td>27</td>\n",
       "      <td>Eng. de Software</td>\n",
       "      <td>126/83</td>\n",
       "      <td>77</td>\n",
       "      <td>126</td>\n",
       "      <td>83</td>\n",
       "    </tr>\n",
       "    <tr>\n",
       "      <th>1</th>\n",
       "      <td>2</td>\n",
       "      <td>Homem</td>\n",
       "      <td>28</td>\n",
       "      <td>Médico(a)</td>\n",
       "      <td>125/80</td>\n",
       "      <td>75</td>\n",
       "      <td>125</td>\n",
       "      <td>80</td>\n",
       "    </tr>\n",
       "    <tr>\n",
       "      <th>2</th>\n",
       "      <td>3</td>\n",
       "      <td>Homem</td>\n",
       "      <td>28</td>\n",
       "      <td>Médico(a)</td>\n",
       "      <td>125/80</td>\n",
       "      <td>75</td>\n",
       "      <td>125</td>\n",
       "      <td>80</td>\n",
       "    </tr>\n",
       "    <tr>\n",
       "      <th>3</th>\n",
       "      <td>4</td>\n",
       "      <td>Homem</td>\n",
       "      <td>28</td>\n",
       "      <td>Representante de Vendas</td>\n",
       "      <td>140/90</td>\n",
       "      <td>85</td>\n",
       "      <td>140</td>\n",
       "      <td>90</td>\n",
       "    </tr>\n",
       "    <tr>\n",
       "      <th>4</th>\n",
       "      <td>5</td>\n",
       "      <td>Homem</td>\n",
       "      <td>28</td>\n",
       "      <td>Representante de Vendas</td>\n",
       "      <td>140/90</td>\n",
       "      <td>85</td>\n",
       "      <td>140</td>\n",
       "      <td>90</td>\n",
       "    </tr>\n",
       "  </tbody>\n",
       "</table>\n",
       "</div>"
      ],
      "text/plain": [
       "   Identificador Gênero  Idade                Profissão Pressão sanguínea  \\\n",
       "0              1  Homem     27         Eng. de Software            126/83   \n",
       "1              2  Homem     28                Médico(a)            125/80   \n",
       "2              3  Homem     28                Médico(a)            125/80   \n",
       "3              4  Homem     28  Representante de Vendas            140/90   \n",
       "4              5  Homem     28  Representante de Vendas            140/90   \n",
       "\n",
       "   Frequência cardíaca Pressão sistólica Pressão diastólica  \n",
       "0                   77               126                 83  \n",
       "1                   75               125                 80  \n",
       "2                   75               125                 80  \n",
       "3                   85               140                 90  \n",
       "4                   85               140                 90  "
      ]
     },
     "execution_count": 215,
     "metadata": {},
     "output_type": "execute_result"
    }
   ],
   "source": [
    "df_pressao.head(5)"
   ]
  },
  {
   "cell_type": "code",
   "execution_count": 217,
   "id": "341e41a7-f53a-494e-adb1-4108b0456707",
   "metadata": {},
   "outputs": [
    {
     "data": {
      "text/plain": [
       "dtype('O')"
      ]
     },
     "execution_count": 217,
     "metadata": {},
     "output_type": "execute_result"
    }
   ],
   "source": [
    "df_pressao['Pressão sanguínea'].dtypes"
   ]
  },
  {
   "cell_type": "code",
   "execution_count": 224,
   "id": "f64e3f6b-2403-4529-8789-2d0531b9066d",
   "metadata": {},
   "outputs": [],
   "source": [
    "df_pressao['Pressão sistólica'] = df_pressao['Pressão sistólica'].astype('int64')\n",
    "df_pressao['Pressão diastólica'] = df_pressao['Pressão diastólica'].astype('int64')"
   ]
  },
  {
   "cell_type": "code",
   "execution_count": 226,
   "id": "493a5d60-1949-41ef-869d-e7a129f6d5c4",
   "metadata": {},
   "outputs": [
    {
     "data": {
      "text/plain": [
       "dtype('int64')"
      ]
     },
     "execution_count": 226,
     "metadata": {},
     "output_type": "execute_result"
    }
   ],
   "source": [
    "df_pressao['Pressão sistólica'].dtypes"
   ]
  },
  {
   "cell_type": "markdown",
   "id": "846f8c84-04c1-417b-8d36-79e8a3e18dea",
   "metadata": {},
   "source": [
    "#### De acordo com os números em média as mulheres possuem maior pressão sanguínea isso se dá pelo fato do coração das mulheres serem menores e demandar maior trabalho do orgão"
   ]
  },
  {
   "cell_type": "code",
   "execution_count": 227,
   "id": "dbc434cf-0e88-4d40-b3fe-fc40aff20207",
   "metadata": {},
   "outputs": [
    {
     "data": {
      "text/html": [
       "<div>\n",
       "<style scoped>\n",
       "    .dataframe tbody tr th:only-of-type {\n",
       "        vertical-align: middle;\n",
       "    }\n",
       "\n",
       "    .dataframe tbody tr th {\n",
       "        vertical-align: top;\n",
       "    }\n",
       "\n",
       "    .dataframe thead th {\n",
       "        text-align: right;\n",
       "    }\n",
       "</style>\n",
       "<table border=\"1\" class=\"dataframe\">\n",
       "  <thead>\n",
       "    <tr style=\"text-align: right;\">\n",
       "      <th></th>\n",
       "      <th>Pressão sistólica</th>\n",
       "      <th>Pressão diastólica</th>\n",
       "    </tr>\n",
       "    <tr>\n",
       "      <th>Gênero</th>\n",
       "      <th></th>\n",
       "      <th></th>\n",
       "    </tr>\n",
       "  </thead>\n",
       "  <tbody>\n",
       "    <tr>\n",
       "      <th>Homem</th>\n",
       "      <td>126.941799</td>\n",
       "      <td>83.015873</td>\n",
       "    </tr>\n",
       "    <tr>\n",
       "      <th>Mulher</th>\n",
       "      <td>130.146739</td>\n",
       "      <td>86.271739</td>\n",
       "    </tr>\n",
       "  </tbody>\n",
       "</table>\n",
       "</div>"
      ],
      "text/plain": [
       "        Pressão sistólica  Pressão diastólica\n",
       "Gênero                                       \n",
       "Homem          126.941799           83.015873\n",
       "Mulher         130.146739           86.271739"
      ]
     },
     "execution_count": 227,
     "metadata": {},
     "output_type": "execute_result"
    }
   ],
   "source": [
    "df_pressao.groupby('Gênero')[['Pressão sistólica','Pressão diastólica']].mean()"
   ]
  },
  {
   "cell_type": "markdown",
   "id": "d1ab0c8d-acf4-4ecc-a37f-a83753ef2096",
   "metadata": {
    "jp-MarkdownHeadingCollapsed": true,
    "tags": []
   },
   "source": [
    "### #9"
   ]
  },
  {
   "cell_type": "code",
   "execution_count": 236,
   "id": "a4f223e3-60e2-45b9-9735-67dd3c21d689",
   "metadata": {},
   "outputs": [
    {
     "data": {
      "text/html": [
       "<div>\n",
       "<style scoped>\n",
       "    .dataframe tbody tr th:only-of-type {\n",
       "        vertical-align: middle;\n",
       "    }\n",
       "\n",
       "    .dataframe tbody tr th {\n",
       "        vertical-align: top;\n",
       "    }\n",
       "\n",
       "    .dataframe thead th {\n",
       "        text-align: right;\n",
       "    }\n",
       "</style>\n",
       "<table border=\"1\" class=\"dataframe\">\n",
       "  <thead>\n",
       "    <tr style=\"text-align: right;\">\n",
       "      <th></th>\n",
       "      <th>Identificador</th>\n",
       "      <th>Gênero</th>\n",
       "      <th>Idade</th>\n",
       "      <th>Profissão</th>\n",
       "      <th>Duração do sono</th>\n",
       "      <th>Qualidade do sono</th>\n",
       "      <th>Nível de atividade física</th>\n",
       "      <th>Nível de estresse</th>\n",
       "      <th>Categoria IMC</th>\n",
       "      <th>Pressão sanguínea</th>\n",
       "      <th>Frequência cardíaca</th>\n",
       "      <th>Passos diários</th>\n",
       "      <th>Distúrbio do sono</th>\n",
       "    </tr>\n",
       "  </thead>\n",
       "  <tbody>\n",
       "    <tr>\n",
       "      <th>0</th>\n",
       "      <td>1</td>\n",
       "      <td>Homem</td>\n",
       "      <td>27</td>\n",
       "      <td>Eng. de Software</td>\n",
       "      <td>6.1</td>\n",
       "      <td>6</td>\n",
       "      <td>42</td>\n",
       "      <td>6</td>\n",
       "      <td>Sobrepeso</td>\n",
       "      <td>126/83</td>\n",
       "      <td>77</td>\n",
       "      <td>4200</td>\n",
       "      <td>Nenhuma</td>\n",
       "    </tr>\n",
       "    <tr>\n",
       "      <th>1</th>\n",
       "      <td>2</td>\n",
       "      <td>Homem</td>\n",
       "      <td>28</td>\n",
       "      <td>Médico(a)</td>\n",
       "      <td>6.2</td>\n",
       "      <td>6</td>\n",
       "      <td>60</td>\n",
       "      <td>8</td>\n",
       "      <td>Normal</td>\n",
       "      <td>125/80</td>\n",
       "      <td>75</td>\n",
       "      <td>10000</td>\n",
       "      <td>Nenhuma</td>\n",
       "    </tr>\n",
       "    <tr>\n",
       "      <th>2</th>\n",
       "      <td>3</td>\n",
       "      <td>Homem</td>\n",
       "      <td>28</td>\n",
       "      <td>Médico(a)</td>\n",
       "      <td>6.2</td>\n",
       "      <td>6</td>\n",
       "      <td>60</td>\n",
       "      <td>8</td>\n",
       "      <td>Normal</td>\n",
       "      <td>125/80</td>\n",
       "      <td>75</td>\n",
       "      <td>10000</td>\n",
       "      <td>Nenhuma</td>\n",
       "    </tr>\n",
       "  </tbody>\n",
       "</table>\n",
       "</div>"
      ],
      "text/plain": [
       "   Identificador Gênero  Idade         Profissão  Duração do sono  \\\n",
       "0              1  Homem     27  Eng. de Software              6.1   \n",
       "1              2  Homem     28         Médico(a)              6.2   \n",
       "2              3  Homem     28         Médico(a)              6.2   \n",
       "\n",
       "   Qualidade do sono  Nível de atividade física  Nível de estresse  \\\n",
       "0                  6                         42                  6   \n",
       "1                  6                         60                  8   \n",
       "2                  6                         60                  8   \n",
       "\n",
       "  Categoria IMC Pressão sanguínea  Frequência cardíaca  Passos diários  \\\n",
       "0     Sobrepeso            126/83                   77            4200   \n",
       "1        Normal            125/80                   75           10000   \n",
       "2        Normal            125/80                   75           10000   \n",
       "\n",
       "  Distúrbio do sono  \n",
       "0           Nenhuma  \n",
       "1           Nenhuma  \n",
       "2           Nenhuma  "
      ]
     },
     "execution_count": 236,
     "metadata": {},
     "output_type": "execute_result"
    }
   ],
   "source": [
    "df_health.head(3)"
   ]
  },
  {
   "cell_type": "code",
   "execution_count": 237,
   "id": "122ebca2-303e-4e55-822e-eb4b4cf7d055",
   "metadata": {},
   "outputs": [
    {
     "data": {
      "text/plain": [
       "0    7.2\n",
       "Name: Duração do sono, dtype: float64"
      ]
     },
     "execution_count": 237,
     "metadata": {},
     "output_type": "execute_result"
    }
   ],
   "source": [
    "df_health['Duração do sono'].mode()"
   ]
  },
  {
   "cell_type": "code",
   "execution_count": null,
   "id": "2eef5afe-da99-47b8-a37d-f7692a0787f0",
   "metadata": {},
   "outputs": [],
   "source": []
  },
  {
   "cell_type": "markdown",
   "id": "8cf1cf3b-0dd9-4226-8f2a-6c6fe773ae6c",
   "metadata": {
    "jp-MarkdownHeadingCollapsed": true,
    "tags": []
   },
   "source": [
    "### #10"
   ]
  },
  {
   "cell_type": "code",
   "execution_count": 241,
   "id": "5fe51b18-9e42-4621-8488-4468bd484fe5",
   "metadata": {},
   "outputs": [
    {
     "data": {
      "text/html": [
       "<div>\n",
       "<style scoped>\n",
       "    .dataframe tbody tr th:only-of-type {\n",
       "        vertical-align: middle;\n",
       "    }\n",
       "\n",
       "    .dataframe tbody tr th {\n",
       "        vertical-align: top;\n",
       "    }\n",
       "\n",
       "    .dataframe thead th {\n",
       "        text-align: right;\n",
       "    }\n",
       "</style>\n",
       "<table border=\"1\" class=\"dataframe\">\n",
       "  <thead>\n",
       "    <tr style=\"text-align: right;\">\n",
       "      <th></th>\n",
       "      <th>Identificador</th>\n",
       "      <th>Gênero</th>\n",
       "      <th>Idade</th>\n",
       "      <th>Profissão</th>\n",
       "      <th>Duração do sono</th>\n",
       "      <th>Qualidade do sono</th>\n",
       "      <th>Nível de atividade física</th>\n",
       "      <th>Nível de estresse</th>\n",
       "      <th>Categoria IMC</th>\n",
       "      <th>Pressão sanguínea</th>\n",
       "      <th>Frequência cardíaca</th>\n",
       "      <th>Passos diários</th>\n",
       "      <th>Distúrbio do sono</th>\n",
       "    </tr>\n",
       "  </thead>\n",
       "  <tbody>\n",
       "    <tr>\n",
       "      <th>0</th>\n",
       "      <td>1</td>\n",
       "      <td>Homem</td>\n",
       "      <td>27</td>\n",
       "      <td>Eng. de Software</td>\n",
       "      <td>6.1</td>\n",
       "      <td>6</td>\n",
       "      <td>42</td>\n",
       "      <td>6</td>\n",
       "      <td>Sobrepeso</td>\n",
       "      <td>126/83</td>\n",
       "      <td>77</td>\n",
       "      <td>4200</td>\n",
       "      <td>Nenhuma</td>\n",
       "    </tr>\n",
       "    <tr>\n",
       "      <th>1</th>\n",
       "      <td>2</td>\n",
       "      <td>Homem</td>\n",
       "      <td>28</td>\n",
       "      <td>Médico(a)</td>\n",
       "      <td>6.2</td>\n",
       "      <td>6</td>\n",
       "      <td>60</td>\n",
       "      <td>8</td>\n",
       "      <td>Normal</td>\n",
       "      <td>125/80</td>\n",
       "      <td>75</td>\n",
       "      <td>10000</td>\n",
       "      <td>Nenhuma</td>\n",
       "    </tr>\n",
       "    <tr>\n",
       "      <th>2</th>\n",
       "      <td>3</td>\n",
       "      <td>Homem</td>\n",
       "      <td>28</td>\n",
       "      <td>Médico(a)</td>\n",
       "      <td>6.2</td>\n",
       "      <td>6</td>\n",
       "      <td>60</td>\n",
       "      <td>8</td>\n",
       "      <td>Normal</td>\n",
       "      <td>125/80</td>\n",
       "      <td>75</td>\n",
       "      <td>10000</td>\n",
       "      <td>Nenhuma</td>\n",
       "    </tr>\n",
       "  </tbody>\n",
       "</table>\n",
       "</div>"
      ],
      "text/plain": [
       "   Identificador Gênero  Idade         Profissão  Duração do sono  \\\n",
       "0              1  Homem     27  Eng. de Software              6.1   \n",
       "1              2  Homem     28         Médico(a)              6.2   \n",
       "2              3  Homem     28         Médico(a)              6.2   \n",
       "\n",
       "   Qualidade do sono  Nível de atividade física  Nível de estresse  \\\n",
       "0                  6                         42                  6   \n",
       "1                  6                         60                  8   \n",
       "2                  6                         60                  8   \n",
       "\n",
       "  Categoria IMC Pressão sanguínea  Frequência cardíaca  Passos diários  \\\n",
       "0     Sobrepeso            126/83                   77            4200   \n",
       "1        Normal            125/80                   75           10000   \n",
       "2        Normal            125/80                   75           10000   \n",
       "\n",
       "  Distúrbio do sono  \n",
       "0           Nenhuma  \n",
       "1           Nenhuma  \n",
       "2           Nenhuma  "
      ]
     },
     "execution_count": 241,
     "metadata": {},
     "output_type": "execute_result"
    }
   ],
   "source": [
    "df_health.head(3)"
   ]
  },
  {
   "cell_type": "code",
   "execution_count": 251,
   "id": "aff578da-af88-4551-8096-9d1c07cde258",
   "metadata": {},
   "outputs": [],
   "source": [
    "frequencia_maior = df_health['Passos diários'].loc[df_health['Frequência cardíaca'] >= 70].mean()\n",
    "\n",
    "frequencia_menor = df_health['Passos diários'].loc[df_health['Frequência cardíaca'] < 70].mean()"
   ]
  },
  {
   "cell_type": "markdown",
   "id": "d87f7da4-bdec-4288-813d-9ea3896793ca",
   "metadata": {},
   "source": [
    "#### Sim, pessoas com frequências cardíacas acima de 70 dão mais passos que pessoas com frequência cardíaca menor que 70"
   ]
  },
  {
   "cell_type": "code",
   "execution_count": 255,
   "id": "8dbb9dd4-54cd-440f-9e04-1aa574ca9f98",
   "metadata": {},
   "outputs": [
    {
     "name": "stdout",
     "output_type": "stream",
     "text": [
      "Pessoas com frequência cardíaca maior que 70 dão em média 7005.263157894737 passos diários\n",
      "\n",
      "\n",
      "Pessoas com frequência cardíaca menor que 70 dão em média 6575.609756097561 passos diários\n"
     ]
    }
   ],
   "source": [
    "print(f'Pessoas com frequência cardíaca maior que 70 dão em média {frequencia_maior} passos diários')\n",
    "print('\\n')\n",
    "print(f'Pessoas com frequência cardíaca menor que 70 dão em média {frequencia_menor} passos diários')"
   ]
  },
  {
   "cell_type": "code",
   "execution_count": null,
   "id": "66639224-6531-436d-8b8f-86536a25d2dc",
   "metadata": {},
   "outputs": [],
   "source": []
  }
 ],
 "metadata": {
  "kernelspec": {
   "display_name": "Python 3 (ipykernel)",
   "language": "python",
   "name": "python3"
  },
  "language_info": {
   "codemirror_mode": {
    "name": "ipython",
    "version": 3
   },
   "file_extension": ".py",
   "mimetype": "text/x-python",
   "name": "python",
   "nbconvert_exporter": "python",
   "pygments_lexer": "ipython3",
   "version": "3.9.18"
  }
 },
 "nbformat": 4,
 "nbformat_minor": 5
}
